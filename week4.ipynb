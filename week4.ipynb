{
 "cells": [
  {
   "cell_type": "code",
   "execution_count": 98,
   "id": "67df6598-ed73-4b0a-950f-e9130b70cb84",
   "metadata": {},
   "outputs": [
    {
     "data": {
      "text/html": [
       "<div>\n",
       "<style scoped>\n",
       "    .dataframe tbody tr th:only-of-type {\n",
       "        vertical-align: middle;\n",
       "    }\n",
       "\n",
       "    .dataframe tbody tr th {\n",
       "        vertical-align: top;\n",
       "    }\n",
       "\n",
       "    .dataframe thead th {\n",
       "        text-align: right;\n",
       "    }\n",
       "</style>\n",
       "<table border=\"1\" class=\"dataframe\">\n",
       "  <thead>\n",
       "    <tr style=\"text-align: right;\">\n",
       "      <th></th>\n",
       "      <th>0</th>\n",
       "      <th>1</th>\n",
       "      <th>2</th>\n",
       "      <th>3</th>\n",
       "      <th>4</th>\n",
       "    </tr>\n",
       "  </thead>\n",
       "  <tbody>\n",
       "    <tr>\n",
       "      <th>lead_source</th>\n",
       "      <td>paid_ads</td>\n",
       "      <td>social_media</td>\n",
       "      <td>events</td>\n",
       "      <td>paid_ads</td>\n",
       "      <td>referral</td>\n",
       "    </tr>\n",
       "    <tr>\n",
       "      <th>industry</th>\n",
       "      <td>NaN</td>\n",
       "      <td>retail</td>\n",
       "      <td>healthcare</td>\n",
       "      <td>retail</td>\n",
       "      <td>education</td>\n",
       "    </tr>\n",
       "    <tr>\n",
       "      <th>number_of_courses_viewed</th>\n",
       "      <td>1</td>\n",
       "      <td>1</td>\n",
       "      <td>5</td>\n",
       "      <td>2</td>\n",
       "      <td>3</td>\n",
       "    </tr>\n",
       "    <tr>\n",
       "      <th>annual_income</th>\n",
       "      <td>79450.0</td>\n",
       "      <td>46992.0</td>\n",
       "      <td>78796.0</td>\n",
       "      <td>83843.0</td>\n",
       "      <td>85012.0</td>\n",
       "    </tr>\n",
       "    <tr>\n",
       "      <th>employment_status</th>\n",
       "      <td>unemployed</td>\n",
       "      <td>employed</td>\n",
       "      <td>unemployed</td>\n",
       "      <td>NaN</td>\n",
       "      <td>self_employed</td>\n",
       "    </tr>\n",
       "    <tr>\n",
       "      <th>location</th>\n",
       "      <td>south_america</td>\n",
       "      <td>south_america</td>\n",
       "      <td>australia</td>\n",
       "      <td>australia</td>\n",
       "      <td>europe</td>\n",
       "    </tr>\n",
       "    <tr>\n",
       "      <th>interaction_count</th>\n",
       "      <td>4</td>\n",
       "      <td>1</td>\n",
       "      <td>3</td>\n",
       "      <td>1</td>\n",
       "      <td>3</td>\n",
       "    </tr>\n",
       "    <tr>\n",
       "      <th>lead_score</th>\n",
       "      <td>0.94</td>\n",
       "      <td>0.8</td>\n",
       "      <td>0.69</td>\n",
       "      <td>0.87</td>\n",
       "      <td>0.62</td>\n",
       "    </tr>\n",
       "    <tr>\n",
       "      <th>converted</th>\n",
       "      <td>1</td>\n",
       "      <td>0</td>\n",
       "      <td>1</td>\n",
       "      <td>0</td>\n",
       "      <td>1</td>\n",
       "    </tr>\n",
       "  </tbody>\n",
       "</table>\n",
       "</div>"
      ],
      "text/plain": [
       "                                      0              1           2          3  \\\n",
       "lead_source                    paid_ads   social_media      events   paid_ads   \n",
       "industry                            NaN         retail  healthcare     retail   \n",
       "number_of_courses_viewed              1              1           5          2   \n",
       "annual_income                   79450.0        46992.0     78796.0    83843.0   \n",
       "employment_status            unemployed       employed  unemployed        NaN   \n",
       "location                  south_america  south_america   australia  australia   \n",
       "interaction_count                     4              1           3          1   \n",
       "lead_score                         0.94            0.8        0.69       0.87   \n",
       "converted                             1              0           1          0   \n",
       "\n",
       "                                      4  \n",
       "lead_source                    referral  \n",
       "industry                      education  \n",
       "number_of_courses_viewed              3  \n",
       "annual_income                   85012.0  \n",
       "employment_status         self_employed  \n",
       "location                         europe  \n",
       "interaction_count                     3  \n",
       "lead_score                         0.62  \n",
       "converted                             1  "
      ]
     },
     "execution_count": 98,
     "metadata": {},
     "output_type": "execute_result"
    }
   ],
   "source": [
    "import pandas as pd\n",
    "import numpy as np\n",
    "from sklearn.model_selection import train_test_split\n",
    "from sklearn.feature_extraction import DictVectorizer\n",
    "from sklearn.linear_model import LogisticRegression\n",
    "from sklearn.metrics import roc_auc_score\n",
    "df=pd.read_csv('https://raw.githubusercontent.com/alexeygrigorev/datasets/master/course_lead_scoring.csv')\n",
    "df.head()\n",
    "df.head().T"
   ]
  },
  {
   "cell_type": "code",
   "execution_count": 99,
   "id": "8a426082-e72a-456b-a5c8-3447ec04203a",
   "metadata": {},
   "outputs": [
    {
     "data": {
      "text/plain": [
       "lead_source                  object\n",
       "industry                     object\n",
       "number_of_courses_viewed      int64\n",
       "annual_income               float64\n",
       "employment_status            object\n",
       "location                     object\n",
       "interaction_count             int64\n",
       "lead_score                  float64\n",
       "converted                     int64\n",
       "dtype: object"
      ]
     },
     "execution_count": 99,
     "metadata": {},
     "output_type": "execute_result"
    }
   ],
   "source": [
    "df.dtypes"
   ]
  },
  {
   "cell_type": "code",
   "execution_count": 23,
   "id": "8eaa4043-4187-494c-83a1-2cd773c81fb8",
   "metadata": {},
   "outputs": [
    {
     "name": "stdout",
     "output_type": "stream",
     "text": [
      "lead_source                 128\n",
      "industry                    134\n",
      "number_of_courses_viewed      0\n",
      "annual_income               181\n",
      "employment_status           100\n",
      "location                     63\n",
      "interaction_count             0\n",
      "lead_score                    0\n",
      "converted                     0\n",
      "dtype: int64\n"
     ]
    }
   ],
   "source": [
    "print(df.isnull().sum())"
   ]
  },
  {
   "cell_type": "code",
   "execution_count": 73,
   "id": "9970dba6-f1a9-4f66-99b4-9cdf9af57999",
   "metadata": {},
   "outputs": [
    {
     "name": "stdout",
     "output_type": "stream",
     "text": [
      "lead_source                 0\n",
      "industry                    0\n",
      "number_of_courses_viewed    0\n",
      "annual_income               0\n",
      "employment_status           0\n",
      "location                    0\n",
      "interaction_count           0\n",
      "lead_score                  0\n",
      "converted                   0\n",
      "dtype: int64\n"
     ]
    }
   ],
   "source": [
    "df_filled = df.copy()\n",
    "\n",
    "for c in df_filled.columns:\n",
    "    if df_filled[c].dtype == 'object':\n",
    "        converted = pd.to_numeric(df_filled[c], errors='coerce')\n",
    "        if converted.notna().mean() > 0.9:\n",
    "            df_filled[c] = converted.fillna(0.0)\n",
    "        else:\n",
    "            df_filled[c] = df_filled[c].fillna('NA')\n",
    "    else:\n",
    "        df_filled[c] = df_filled[c].fillna(0.0)\n",
    "\n",
    "print(df.isnull().sum())"
   ]
  },
  {
   "cell_type": "code",
   "execution_count": 72,
   "id": "3616e915-1459-429d-8ad3-2ca52bacf5ab",
   "metadata": {},
   "outputs": [
    {
     "name": "stdout",
     "output_type": "stream",
     "text": [
      "lead_score                  float64\n",
      "number_of_courses_viewed      int64\n",
      "interaction_count             int64\n",
      "annual_income               float64\n",
      "dtype: object\n"
     ]
    }
   ],
   "source": [
    "df_full_train, df_test = train_test_split(df_filled, test_size=0.20, random_state=1)\n",
    "df_train, df_val = train_test_split(df_full_train, test_size=0.25, random_state=1)\n",
    "\n",
    "for part in (df_train, df_val, df_test):\n",
    "    part.reset_index(drop=True, inplace=True)\n",
    "\n",
    "\n",
    "num_cols = ['lead_score', 'number_of_courses_viewed', 'interaction_count', 'annual_income']\n",
    "\n",
    "\n",
    "for c in num_cols:\n",
    "    df_train[c] = pd.to_numeric(df_train[c], errors='coerce').fillna(0.0)\n",
    "    df_val[c]   = pd.to_numeric(df_val[c], errors='coerce').fillna(0.0)\n",
    "    df_test[c]  = pd.to_numeric(df_test[c], errors='coerce').fillna(0.0)\n",
    "\n",
    "\n",
    "y_train = df_train['converted'].astype(int).values\n",
    "y_val   = df_val['converted'].astype(int).values\n",
    "y_test  = df_test['converted'].astype(int).values\n",
    "\n",
    "print(df_train[num_cols].dtypes)"
   ]
  },
  {
   "cell_type": "code",
   "execution_count": 74,
   "id": "f7de29ed-4ba5-40dd-8d06-b7abd6abfaeb",
   "metadata": {},
   "outputs": [
    {
     "name": "stdout",
     "output_type": "stream",
     "text": [
      "lead_score 0.614\n",
      "number_of_courses_viewed 0.764\n",
      "interaction_count 0.738\n",
      "annual_income 0.552\n"
     ]
    }
   ],
   "source": [
    "num_vars = ['lead_score', 'number_of_courses_viewed', 'interaction_count', 'annual_income']\n",
    "\n",
    "      \n",
    "for v in num_vars:\n",
    "    auc = roc_auc_score(y_train, df_train[v])  \n",
    "    if auc < 0.5:                             \n",
    "        auc = roc_auc_score(y_train, -df_train[v]) \n",
    "    print(v, round(auc, 3))  "
   ]
  },
  {
   "cell_type": "code",
   "execution_count": 76,
   "id": "fd0bf0ec-bcaa-48a2-9b0d-ce39ec2547fc",
   "metadata": {},
   "outputs": [
    {
     "name": "stdout",
     "output_type": "stream",
     "text": [
      "lead_source          object\n",
      "industry             object\n",
      "employment_status    object\n",
      "location             object\n",
      "dtype: object\n"
     ]
    }
   ],
   "source": [
    "drop_cols = ['converted']\n",
    "train_dicts = df_train.drop(columns=drop_cols).to_dict(orient='records')\n",
    "val_dicts   = df_val.drop(columns=drop_cols).to_dict(orient='records')\n",
    "print(df_train[['lead_source','industry','employment_status','location']].dtypes)"
   ]
  },
  {
   "cell_type": "code",
   "execution_count": 82,
   "id": "d205b06f-8d74-4969-8186-e222ebe28d40",
   "metadata": {},
   "outputs": [
    {
     "name": "stdout",
     "output_type": "stream",
     "text": [
      "0.817\n",
      "31\n"
     ]
    }
   ],
   "source": [
    "dv = DictVectorizer(sparse=True)\n",
    "X_train = dv.fit_transform(train_dicts)\n",
    "X_val   = dv.transform(val_dicts)\n",
    "\n",
    "model = LogisticRegression(solver='liblinear', C=1.0, max_iter=1000, random_state=1)\n",
    "model.fit(X_train, y_train)\n",
    "\n",
    "\n",
    "y_pred = model.predict_proba(X_val)[:, 1]\n",
    "auc = roc_auc_score(y_val, y_pred)\n",
    "print(round(auc, 3))\n",
    "print(len(dv.get_feature_names_out()))"
   ]
  },
  {
   "cell_type": "code",
   "execution_count": 80,
   "id": "70a7a204-36f8-47d0-8fc3-6b615e9a2221",
   "metadata": {},
   "outputs": [
    {
     "name": "stdout",
     "output_type": "stream",
     "text": [
      "Index(['lead_source', 'industry', 'number_of_courses_viewed', 'annual_income',\n",
      "       'employment_status', 'location', 'interaction_count', 'lead_score',\n",
      "       'converted'],\n",
      "      dtype='object')\n"
     ]
    }
   ],
   "source": [
    "print(df_train.columns)"
   ]
  },
  {
   "cell_type": "code",
   "execution_count": 81,
   "id": "a6fe7e6f-604c-4e5e-86d7-0bdc52e2c508",
   "metadata": {},
   "outputs": [
    {
     "name": "stdout",
     "output_type": "stream",
     "text": [
      "      lead_source       industry employment_status       location\n",
      "0          events  manufacturing        unemployed         europe\n",
      "1        referral             NA           student  south_america\n",
      "2  organic_search     healthcare        unemployed         europe\n",
      "3        paid_ads          other          employed  south_america\n",
      "4        paid_ads      education        unemployed  south_america\n",
      "5        referral  manufacturing           student             NA\n",
      "6        paid_ads          other           student    middle_east\n",
      "7    social_media     healthcare        unemployed  south_america\n",
      "8  organic_search             NA        unemployed      australia\n",
      "9  organic_search         retail        unemployed  south_america\n"
     ]
    }
   ],
   "source": [
    "print(df_train[['lead_source','industry','employment_status','location']].head(10))"
   ]
  },
  {
   "cell_type": "code",
   "execution_count": 83,
   "id": "a6aa0ff1-3ece-415b-ab70-24c16435ef33",
   "metadata": {},
   "outputs": [
    {
     "name": "stdout",
     "output_type": "stream",
     "text": [
      "lead_source 6\n",
      "industry 8\n",
      "employment_status 5\n",
      "location 8\n"
     ]
    }
   ],
   "source": [
    "for c in ['lead_source','industry','employment_status','location']:\n",
    "    print(c, df_train[c].nunique())"
   ]
  },
  {
   "cell_type": "code",
   "execution_count": 84,
   "id": "e02f2ef5-d7b0-4b23-a179-a09317f9db81",
   "metadata": {},
   "outputs": [
    {
     "name": "stdout",
     "output_type": "stream",
     "text": [
      "lead_score                  float64\n",
      "number_of_courses_viewed      int64\n",
      "interaction_count             int64\n",
      "annual_income               float64\n",
      "dtype: object\n"
     ]
    }
   ],
   "source": [
    "print(df_train[['lead_score','number_of_courses_viewed','interaction_count','annual_income']].dtypes)"
   ]
  },
  {
   "cell_type": "code",
   "execution_count": 100,
   "id": "0530b92c-e81d-4844-899b-ec15920a1abf",
   "metadata": {},
   "outputs": [
    {
     "name": "stdout",
     "output_type": "stream",
     "text": [
      "Threshold where Precision ≈ Recall: 0.639\n",
      "Precision at that point: 0.775\n",
      "Recall at that point: 0.784\n"
     ]
    }
   ],
   "source": [
    "from sklearn.metrics import precision_score, recall_score\n",
    "import matplotlib.pyplot as plt\n",
    "ths = np.linspace(0, y_pred.max(), 100)\n",
    "precisions, recalls = [], []\n",
    "\n",
    "for t in ths:\n",
    "    y_hat = (y_pred >= t).astype(int)\n",
    "    p = precision_score(y_val, y_hat, zero_division=0)\n",
    "    r = recall_score(y_val, y_hat, zero_division=0)\n",
    "    precisions.append(p)\n",
    "    recalls.append(r)\n",
    "\n",
    "precisions = np.array(precisions)\n",
    "recalls = np.array(recalls)\n",
    "\n",
    "\n",
    "idx = np.argmin(np.abs(precisions - recalls))\n",
    "t_star = float(ths[idx])\n",
    "\n",
    "print(f\"Threshold where Precision ≈ Recall: {t_star:.3f}\")\n",
    "print(f\"Precision at that point: {precisions[idx]:.3f}\")\n",
    "print(f\"Recall at that point: {recalls[idx]:.3f}\")\n"
   ]
  },
  {
   "cell_type": "code",
   "execution_count": 95,
   "id": "efc0e947-1548-4623-8002-3528ae77057e",
   "metadata": {},
   "outputs": [
    {
     "name": "stdout",
     "output_type": "stream",
     "text": [
      "0.2620088894928918 0.9729565475181032\n"
     ]
    }
   ],
   "source": [
    "print(y_pred.min(), y_pred.max())"
   ]
  },
  {
   "cell_type": "code",
   "execution_count": 97,
   "id": "10e2ee7a-6a7a-4099-95ad-7ccfb6ee4260",
   "metadata": {},
   "outputs": [
    {
     "data": {
      "image/png": "[encoded data removed]",
      "text/plain": [
       "<Figure size 700x400 with 1 Axes>"
      ]
     },
     "metadata": {},
     "output_type": "display_data"
    }
   ],
   "source": [
    "plt.figure(figsize=(7,4))\n",
    "plt.plot(ths, precisions, label=\"Precision\")\n",
    "plt.plot(ths, recalls, label=\"Recall\")\n",
    "plt.axvline(t_star, linestyle=\"--\", label=f\"t*={t_star:.3f}\")\n",
    "plt.xlabel(\"Threshold\")\n",
    "plt.ylabel(\"Score\")\n",
    "plt.title(\"Precision / Recall vs Threshold\")\n",
    "plt.legend()\n",
    "plt.grid(True)\n",
    "plt.show()"
   ]
  },
  {
   "cell_type": "code",
   "execution_count": 101,
   "id": "2ce52d6a-f19c-430d-9bdf-fcc65235ad45",
   "metadata": {},
   "outputs": [
    {
     "name": "stdout",
     "output_type": "stream",
     "text": [
      "Threshold where F1 is maximal: 0.570\n",
      "Best F1 score: 0.812\n"
     ]
    }
   ],
   "source": [
    "den = precisions + recalls\n",
    "f1s = np.where(den > 0, 2 * precisions * recalls / den, 0.0)\n",
    "\n",
    "best_idx = int(np.argmax(f1s))\n",
    "best_t = float(ths[best_idx])\n",
    "best_f1 = float(f1s[best_idx])\n",
    "\n",
    "\n",
    "print(f\"Threshold where F1 is maximal: {best_t:.3f}\")\n",
    "print(f\"Best F1 score: {best_f1:.3f}\")\n",
    "\n"
   ]
  },
  {
   "cell_type": "code",
   "execution_count": 104,
   "id": "4d1fff5e-4e0d-44a2-ac7c-9a8fab4f8583",
   "metadata": {},
   "outputs": [
    {
     "name": "stdout",
     "output_type": "stream",
     "text": [
      "Fold AUCs: [np.float64(0.806), np.float64(0.871), np.float64(0.775), np.float64(0.802), np.float64(0.856)]\n",
      "Mean AUC: 0.822\n",
      "Std AUC: 0.036\n"
     ]
    }
   ],
   "source": [
    "from sklearn.model_selection import KFold\n",
    "kf = KFold(n_splits=5, shuffle=True, random_state=1)\n",
    "scores = []\n",
    "\n",
    "def ready(df):\n",
    "    y = df['converted'].astype(int).values\n",
    "    dicts = df.drop(columns=['converted']).to_dict(orient='records')\n",
    "    return dicts, y\n",
    "    \n",
    "for tr_idx, va_idx in kf.split(df_full_train):\n",
    "    tr_dicts, y_tr = ready(df_full_train.iloc[tr_idx])\n",
    "    va_dicts, y_va = ready(df_full_train.iloc[va_idx])\n",
    "\n",
    "    dv = DictVectorizer(sparse=True)\n",
    "    X_tr = dv.fit_transform(tr_dicts)\n",
    "    X_va = dv.transform(va_dicts)\n",
    "\n",
    "    model = LogisticRegression(solver='liblinear', C=1.0, max_iter=1000, random_state=1)\n",
    "    model.fit(X_tr, y_tr)\n",
    "\n",
    "    y_pred = model.predict_proba(X_va)[:, 1]\n",
    "    scores.append(roc_auc_score(y_va, y_pred))\n",
    "\n",
    "print(\"Fold AUCs:\", [round(s, 3) for s in scores])\n",
    "print(\"Mean AUC:\", round(np.mean(scores), 3))\n",
    "print(\"Std AUC:\",  round(np.std(scores), 3))"
   ]
  },
  {
   "cell_type": "code",
   "execution_count": 106,
   "id": "f9e30f30-0066-4602-9411-12f109a6cf2a",
   "metadata": {},
   "outputs": [
    {
     "name": "stdout",
     "output_type": "stream",
     "text": [
      "C, mean_auc, std_auc\n",
      "1e-06 0.56 0.024\n",
      "0.001 0.867 0.029\n",
      "1.0 0.822 0.036\n",
      "\n",
      "Best C: 0.001 | mean_auc: 0.867 | std_auc: 0.029\n"
     ]
    }
   ],
   "source": [
    "Cs = [1e-6, 1e-3, 1.0]\n",
    "kf = KFold(n_splits=5, shuffle=True, random_state=1)\n",
    "\n",
    "def cv_auc_for(C):\n",
    "    scores = []\n",
    "    for tr_idx, va_idx in kf.split(df_full_train):\n",
    "        tr_dicts, y_tr = ready(df_full_train.iloc[tr_idx])\n",
    "        va_dicts, y_va = ready(df_full_train.iloc[va_idx])\n",
    "\n",
    "        dv = DictVectorizer(sparse=True)\n",
    "        X_tr = dv.fit_transform(tr_dicts)\n",
    "        X_va = dv.transform(va_dicts)\n",
    "\n",
    "        model = LogisticRegression(solver='liblinear', C=C, max_iter=1000, random_state=1)\n",
    "        model.fit(X_tr, y_tr)\n",
    "\n",
    "        y_pred = model.predict_proba(X_va)[:, 1]\n",
    "        scores.append(roc_auc_score(y_va, y_pred))\n",
    "    return float(np.mean(scores)), float(np.std(scores))\n",
    "\n",
    "results = []\n",
    "for C in Cs:\n",
    "    mean_auc, std_auc = cv_auc_for(C)\n",
    "    results.append((C, round(mean_auc, 3), round(std_auc, 3)))\n",
    "\n",
    "\n",
    "print(\"C, mean_auc, std_auc\")\n",
    "for C, m, s in results:\n",
    "    print(C, m, s)\n",
    "\n",
    "best = sorted(results, key=lambda x: (-x[1], x[2], x[0]))[0]\n",
    "print(\"\\nBest C:\", best[0], \"| mean_auc:\", best[1], \"| std_auc:\", best[2])"
   ]
  },
  {
   "cell_type": "code",
   "execution_count": null,
   "id": "d99f3f92-ddbb-434a-bbc8-b2a89a7f01aa",
   "metadata": {},
   "outputs": [],
   "source": []
  }
 ],
 "metadata": {
  "kernelspec": {
   "display_name": "Python [conda env:base] *",
   "language": "python",
   "name": "conda-base-py"
  },
  "language_info": {
   "codemirror_mode": {
    "name": "ipython",
    "version": 3
   },
   "file_extension": ".py",
   "mimetype": "text/x-python",
   "name": "python",
   "nbconvert_exporter": "python",
   "pygments_lexer": "ipython3",
   "version": "3.13.5"
  }
 },
 "nbformat": 4,
 "nbformat_minor": 5
}
