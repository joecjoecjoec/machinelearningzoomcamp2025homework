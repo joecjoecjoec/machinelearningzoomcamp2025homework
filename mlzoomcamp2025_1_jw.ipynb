{
 "cells": [
  {
   "cell_type": "code",
   "execution_count": 1,
   "id": "7ea48559-af8a-4414-a134-00d6a58c049f",
   "metadata": {},
   "outputs": [
    {
     "name": "stdout",
     "output_type": "stream",
     "text": [
      "2.2.3\n"
     ]
    }
   ],
   "source": [
    "import pandas as pd\n",
    "print(pd.__version__)"
   ]
  },
  {
   "cell_type": "code",
   "execution_count": 2,
   "id": "3b74d466-21f7-444e-9509-736f28b0ee9e",
   "metadata": {},
   "outputs": [
    {
     "name": "stdout",
     "output_type": "stream",
     "text": [
      "(9704, 11)\n"
     ]
    }
   ],
   "source": [
    "import pandas as pd\n",
    "\n",
    "url = \"https://raw.githubusercontent.com/alexeygrigorev/datasets/master/car_fuel_efficiency.csv\"\n",
    "df = pd.read_csv(url)\n",
    "print(df.shape)"
   ]
  },
  {
   "cell_type": "code",
   "execution_count": 3,
   "id": "50e93b7c-2cce-4fb5-9461-e4f0a11570c3",
   "metadata": {},
   "outputs": [
    {
     "name": "stdout",
     "output_type": "stream",
     "text": [
      "   engine_displacement  num_cylinders  horsepower  vehicle_weight  \\\n",
      "0                  170            3.0       159.0     3413.433759   \n",
      "1                  130            5.0        97.0     3149.664934   \n",
      "2                  170            NaN        78.0     3079.038997   \n",
      "3                  220            4.0         NaN     2542.392402   \n",
      "4                  210            1.0       140.0     3460.870990   \n",
      "\n",
      "   acceleration  model_year  origin fuel_type         drivetrain  num_doors  \\\n",
      "0          17.7        2003  Europe  Gasoline    All-wheel drive        0.0   \n",
      "1          17.8        2007     USA  Gasoline  Front-wheel drive        0.0   \n",
      "2          15.1        2018  Europe  Gasoline  Front-wheel drive        0.0   \n",
      "3          20.2        2009     USA    Diesel    All-wheel drive        2.0   \n",
      "4          14.4        2009  Europe  Gasoline    All-wheel drive        2.0   \n",
      "\n",
      "   fuel_efficiency_mpg  \n",
      "0            13.231729  \n",
      "1            13.688217  \n",
      "2            14.246341  \n",
      "3            16.912736  \n",
      "4            12.488369  \n"
     ]
    }
   ],
   "source": [
    "print(df.head()) "
   ]
  },
  {
   "cell_type": "code",
   "execution_count": 4,
   "id": "bbaeb7b1-9b23-4764-8773-51feba011569",
   "metadata": {},
   "outputs": [
    {
     "name": "stdout",
     "output_type": "stream",
     "text": [
      "Index(['engine_displacement', 'num_cylinders', 'horsepower', 'vehicle_weight',\n",
      "       'acceleration', 'model_year', 'origin', 'fuel_type', 'drivetrain',\n",
      "       'num_doors', 'fuel_efficiency_mpg'],\n",
      "      dtype='object')\n"
     ]
    }
   ],
   "source": [
    "print(df.columns)"
   ]
  },
  {
   "cell_type": "code",
   "execution_count": 5,
   "id": "bec55bf2-b59a-4dde-be37-1f22132d9b0c",
   "metadata": {},
   "outputs": [
    {
     "name": "stdout",
     "output_type": "stream",
     "text": [
      "2\n"
     ]
    }
   ],
   "source": [
    "print(df[\"fuel_type\"].nunique())"
   ]
  },
  {
   "cell_type": "code",
   "execution_count": 7,
   "id": "54426bc8-9732-48fb-9fe5-f160f2f5db24",
   "metadata": {},
   "outputs": [
    {
     "data": {
      "text/plain": [
       "engine_displacement      0\n",
       "num_cylinders          482\n",
       "horsepower             708\n",
       "vehicle_weight           0\n",
       "acceleration           930\n",
       "model_year               0\n",
       "origin                   0\n",
       "fuel_type                0\n",
       "drivetrain               0\n",
       "num_doors              502\n",
       "fuel_efficiency_mpg      0\n",
       "dtype: int64"
      ]
     },
     "execution_count": 7,
     "metadata": {},
     "output_type": "execute_result"
    }
   ],
   "source": [
    "df.isnull().sum()"
   ]
  },
  {
   "cell_type": "code",
   "execution_count": 8,
   "id": "5ac4ee2b-9bd0-49fb-b34e-30c2274261a9",
   "metadata": {},
   "outputs": [
    {
     "name": "stdout",
     "output_type": "stream",
     "text": [
      "['Europe' 'USA' 'Asia']\n"
     ]
    }
   ],
   "source": [
    "print(df[\"origin\"].unique())"
   ]
  },
  {
   "cell_type": "code",
   "execution_count": 9,
   "id": "d6b8449b-4bdf-415c-9939-fab4afbf6c65",
   "metadata": {},
   "outputs": [],
   "source": [
    "asia_cars = df[df[\"origin\"] == \"Asia\"]"
   ]
  },
  {
   "cell_type": "code",
   "execution_count": 10,
   "id": "2cc36a31-18c4-425a-b97e-54a995ab66e1",
   "metadata": {},
   "outputs": [
    {
     "name": "stdout",
     "output_type": "stream",
     "text": [
      "23.759122836520497\n"
     ]
    }
   ],
   "source": [
    "asia_cars = df[df[\"origin\"] == \"Asia\"]\n",
    "max_eff = asia_cars[\"fuel_efficiency_mpg\"].max()\n",
    "print(max_eff)"
   ]
  },
  {
   "cell_type": "code",
   "execution_count": 11,
   "id": "f9d5318a-999d-405c-ac17-9e41ef9b337d",
   "metadata": {},
   "outputs": [
    {
     "name": "stdout",
     "output_type": "stream",
     "text": [
      "149.0\n"
     ]
    }
   ],
   "source": [
    "median_1 = df[\"horsepower\"].median()\n",
    "print(median_1)"
   ]
  },
  {
   "cell_type": "code",
   "execution_count": 12,
   "id": "74c3d8c2-478e-407c-b7b9-67ccbdf59cfe",
   "metadata": {},
   "outputs": [
    {
     "name": "stdout",
     "output_type": "stream",
     "text": [
      "152.0\n"
     ]
    }
   ],
   "source": [
    "mode_1=df[\"horsepower\"].mode()[0]\n",
    "print(mode_1)"
   ]
  },
  {
   "cell_type": "code",
   "execution_count": 13,
   "id": "ccf182ec-1de8-47c9-b68b-94ad9dbf7c56",
   "metadata": {},
   "outputs": [
    {
     "name": "stdout",
     "output_type": "stream",
     "text": [
      "152.0\n"
     ]
    }
   ],
   "source": [
    "df[\"horsepower\"] = df[\"horsepower\"].fillna(mode_1)\n",
    "median = df[\"horsepower\"].median()\n",
    "print(median)\n"
   ]
  },
  {
   "cell_type": "code",
   "execution_count": 20,
   "id": "802a40c9-50b1-47d1-9876-3d8d6961308b",
   "metadata": {},
   "outputs": [
    {
     "name": "stdout",
     "output_type": "stream",
     "text": [
      "0.5187709081074025\n"
     ]
    }
   ],
   "source": [
    "asia = df[df[\"origin\"] == \"Asia\"]\n",
    "X = asia[[\"vehicle_weight\", \"model_year\"]].head(7).values\n",
    "XTX = X.T.dot(X)\n",
    "XTX_inv = np.linalg.inv(XTX)\n",
    "y = np.array([1100, 1300, 800, 900, 1000, 1100, 1200])\n",
    "w = XTX_inv.dot(X.T).dot(y)\n",
    "\n",
    "print(w.sum())"
   ]
  },
  {
   "cell_type": "code",
   "execution_count": null,
   "id": "b4b0a866-1082-4dba-8dcf-2f1d5d913723",
   "metadata": {},
   "outputs": [],
   "source": []
  }
 ],
 "metadata": {
  "kernelspec": {
   "display_name": "Python [conda env:base] *",
   "language": "python",
   "name": "conda-base-py"
  },
  "language_info": {
   "codemirror_mode": {
    "name": "ipython",
    "version": 3
   },
   "file_extension": ".py",
   "mimetype": "text/x-python",
   "name": "python",
   "nbconvert_exporter": "python",
   "pygments_lexer": "ipython3",
   "version": "3.13.5"
  }
 },
 "nbformat": 4,
 "nbformat_minor": 5
}
