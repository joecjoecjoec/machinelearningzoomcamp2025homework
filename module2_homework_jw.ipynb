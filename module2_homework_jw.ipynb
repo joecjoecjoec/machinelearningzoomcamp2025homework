{
 "cells": [
  {
   "cell_type": "code",
   "execution_count": 20,
   "id": "af53039a-d245-4d7e-b24f-1754b38ee39a",
   "metadata": {},
   "outputs": [
    {
     "data": {
      "text/plain": [
       "engine_displacement      0\n",
       "horsepower             708\n",
       "vehicle_weight           0\n",
       "model_year               0\n",
       "fuel_efficiency_mpg      0\n",
       "dtype: int64"
      ]
     },
     "execution_count": 20,
     "metadata": {},
     "output_type": "execute_result"
    }
   ],
   "source": [
    "import pandas as pd\n",
    "\n",
    "df = pd.read_csv('https://raw.githubusercontent.com/alexeygrigorev/datasets/master/car_fuel_efficiency.csv')\n",
    "df.columns = df.columns.str.lower().str.replace(' ', '_')\n",
    "strings = list(df.dtypes[df.dtypes == 'object'].index)\n",
    "for col in strings:\n",
    "    df[col] = df[col].str.lower().str.replace(' ', '_')\n",
    "cols = ['engine_displacement', 'horsepower', 'vehicle_weight', 'model_year', 'fuel_efficiency_mpg']\n",
    "df = df[cols]\n",
    "df.isnull().sum()"
   ]
  },
  {
   "cell_type": "code",
   "execution_count": 22,
   "id": "46892c20-2843-40c0-8caf-7c9ef4c648a7",
   "metadata": {},
   "outputs": [
    {
     "name": "stdout",
     "output_type": "stream",
     "text": [
      "149.0\n"
     ]
    }
   ],
   "source": [
    "median_hp = df['horsepower'].median()\n",
    "print(median_hp)"
   ]
  },
  {
   "cell_type": "code",
   "execution_count": 30,
   "id": "2bfdee07-8eb0-491a-9516-6659a2f3374e",
   "metadata": {},
   "outputs": [
    {
     "name": "stdout",
     "output_type": "stream",
     "text": [
      "9704\n",
      "(5822, 11) (1940, 11) (1942, 11)\n"
     ]
    }
   ],
   "source": [
    "import numpy as np\n",
    "n = len(df)\n",
    "n_train = int(0.6 * n)\n",
    "n_val   = int(0.2 * n)\n",
    "n_test  = n - n_train - n_val\n",
    "\n",
    "idx = np.arange(n)\n",
    "np.random.seed(42)\n",
    "np.random.shuffle(idx)\n",
    "\n",
    "df_train = df.iloc[idx[:n_train]]\n",
    "df_val   = df.iloc[idx[n_train:n_train + n_val]]\n",
    "df_test  = df.iloc[idx[n_train + n_val:]]\n",
    "\n",
    "print(n)\n",
    "print(df_train.shape, df_val.shape, df_test.shape)"
   ]
  },
  {
   "cell_type": "code",
   "execution_count": 39,
   "id": "f27cfd53-d3ff-430e-97c8-64144b804716",
   "metadata": {},
   "outputs": [
    {
     "name": "stdout",
     "output_type": "stream",
     "text": [
      "0.52\n",
      "0.46\n"
     ]
    }
   ],
   "source": [
    "features = ['engine_displacement', 'horsepower', 'vehicle_weight', 'model_year']\n",
    "target = 'fuel_efficiency_mpg'\n",
    "\n",
    "def prepare_X(df_):\n",
    "    X = df_[features].values\n",
    "    ones = np.ones(X.shape[0])\n",
    "    X = np.column_stack([ones, X])   \n",
    "    return X\n",
    "def train_linear_regression(X, y):\n",
    "    XTX = X.T.dot(X)\n",
    "    XTX_inv = np.linalg.inv(XTX)\n",
    "    w = XTX_inv.dot(X.T).dot(y)\n",
    "    return w \n",
    "def predict(X, w):\n",
    "    return X.dot(w)\n",
    "def rmse(y, y_pred):\n",
    "    return np.sqrt(((y - y_pred) ** 2).mean())\n",
    "    \n",
    "hp_mean = df_train['horsepower'].mean()\n",
    "\n",
    "df_train_0 = df_train.copy()\n",
    "df_val_0   = df_val.copy()\n",
    "\n",
    "df_train_0['horsepower'] = df_train_0['horsepower'].fillna(0)\n",
    "df_val_0['horsepower']   = df_val_0['horsepower'].fillna(0)\n",
    "\n",
    "X_train_0 = prepare_X(df_train_0)\n",
    "y_train_0 = df_train_0[target].values\n",
    "\n",
    "w_0 = train_linear_regression(X_train_0, y_train_0)\n",
    "\n",
    "X_val_0 = prepare_X(df_val_0)\n",
    "y_val_0 = df_val_0[target].values\n",
    "\n",
    "y_pred_0 = predict(X_val_0, w_0)\n",
    "rmse_0 = rmse(y_val_0, y_pred_0)\n",
    "\n",
    "df_train_m = df_train.copy()\n",
    "df_val_m   = df_val.copy()\n",
    "\n",
    "df_train_m['horsepower'] = df_train_m['horsepower'].fillna(hp_mean)\n",
    "df_val_m['horsepower']   = df_val_m['horsepower'].fillna(hp_mean)\n",
    "\n",
    "X_train_m = prepare_X(df_train_m)\n",
    "y_train_m = df_train_m[target].values\n",
    "\n",
    "w_m = train_linear_regression(X_train_m, y_train_m)\n",
    "\n",
    "X_val_m = prepare_X(df_val_m)\n",
    "y_val_m = df_val_m[target].values\n",
    "\n",
    "y_pred_m = predict(X_val_m, w_m)\n",
    "rmse_m = rmse(y_val_m, y_pred_m)\n",
    "\n",
    "print(round(rmse_0, 2))\n",
    "print(round(rmse_m, 2))"
   ]
  },
  {
   "cell_type": "code",
   "execution_count": 41,
   "id": "9c11fb79-0683-4612-a7e0-40b4be783bbd",
   "metadata": {},
   "outputs": [
    {
     "name": "stdout",
     "output_type": "stream",
     "text": [
      "r=0      RMSE=0.52\n",
      "r=0.01   RMSE=0.52\n",
      "r=0.1    RMSE=0.52\n",
      "r=1      RMSE=0.52\n",
      "r=5      RMSE=0.52\n",
      "r=10     RMSE=0.52\n",
      "r=100    RMSE=0.52\n",
      "0 0.52\n"
     ]
    }
   ],
   "source": [
    "\n",
    "df_train_r = df_train.copy()\n",
    "df_val_r   = df_val.copy()\n",
    "df_train_r['horsepower'] = df_train_r['horsepower'].fillna(0)\n",
    "df_val_r['horsepower']   = df_val_r['horsepower'].fillna(0)\n",
    "\n",
    "X_tr = prepare_X(df_train_r)\n",
    "y_tr = df_train_r[target].values\n",
    "X_va = prepare_X(df_val_r)\n",
    "y_va = df_val_r[target].values\n",
    "\n",
    "\n",
    "def train_ridge(X, y, r):\n",
    "    XTX = X.T.dot(X)\n",
    "    I = np.eye(XTX.shape[0])\n",
    "    I[0, 0] = 0.0  \n",
    "    return np.linalg.solve(XTX + r * I, X.T.dot(y))\n",
    "\n",
    "r_list  = [0, 0.01, 0.1, 1, 5, 10, 100]\n",
    "results = []\n",
    "\n",
    "for r in r_list:\n",
    "    w = train_ridge(X_tr, y_tr, r)\n",
    "    y_hat = predict(X_va, w)\n",
    "    score = rmse(y_va, y_hat)\n",
    "    results.append((r, round(score, 2)))\n",
    "\n",
    "for r, s in results:\n",
    "    print(f\"r={r:<6} RMSE={s:.2f}\")\n",
    "\n",
    "best_r, best_rmse = min(results, key=lambda t: (t[1], t[0]))\n",
    "print(best_r, best_rmse)"
   ]
  },
  {
   "cell_type": "code",
   "execution_count": 43,
   "id": "fc624119-062b-4ff1-9570-f33c384ea097",
   "metadata": {},
   "outputs": [
    {
     "name": "stdout",
     "output_type": "stream",
     "text": [
      "[np.float64(0.52), np.float64(0.52), np.float64(0.52), np.float64(0.52), np.float64(0.51), np.float64(0.53), np.float64(0.53), np.float64(0.51), np.float64(0.51), np.float64(0.51)]\n",
      "0.007\n"
     ]
    }
   ],
   "source": [
    "seeds = list(range(10))\n",
    "rmse_scores = []\n",
    "\n",
    "for s in seeds:\n",
    "    n = len(df)\n",
    "    n_train = int(0.6 * n)\n",
    "    n_val   = int(0.2 * n)\n",
    "\n",
    "    idx = np.arange(n)\n",
    "    np.random.seed(s)\n",
    "    np.random.shuffle(idx)\n",
    "\n",
    "    df_train = df.iloc[idx[:n_train]].copy()\n",
    "    df_val   = df.iloc[idx[n_train:n_train + n_val]].copy()\n",
    "\n",
    "    df_train['horsepower'] = df_train['horsepower'].fillna(0)\n",
    "    df_val['horsepower']   = df_val['horsepower'].fillna(0)\n",
    "\n",
    "    X_tr, y_tr = prepare_X(df_train), df_train['fuel_efficiency_mpg'].values\n",
    "    X_va, y_va = prepare_X(df_val),   df_val['fuel_efficiency_mpg'].values\n",
    "\n",
    "    w = train_linear_regression(X_tr, y_tr)\n",
    "\n",
    "    y_hat = predict(X_va, w)\n",
    "    score = rmse(y_va, y_hat)\n",
    "    rmse_scores.append(score)\n",
    "\n",
    "std_val = np.std(rmse_scores)\n",
    "print([round(x, 2) for x in rmse_scores])\n",
    "print(round(std_val, 3))"
   ]
  },
  {
   "cell_type": "code",
   "execution_count": 44,
   "id": "d3c83005-9eb2-4912-ad7a-1d66cb9368f9",
   "metadata": {},
   "outputs": [
    {
     "name": "stdout",
     "output_type": "stream",
     "text": [
      "0.515\n"
     ]
    }
   ],
   "source": [
    "seed = 9\n",
    "np.random.seed(seed)\n",
    "\n",
    "n = len(df)\n",
    "n_train = int(0.6 * n)\n",
    "n_val   = int(0.2 * n)\n",
    "n_test  = n - n_train - n_val\n",
    "\n",
    "idx = np.arange(n)\n",
    "np.random.shuffle(idx)\n",
    "\n",
    "df_train = df.iloc[idx[:n_train]].copy()\n",
    "df_val   = df.iloc[idx[n_train:n_train + n_val]].copy()\n",
    "df_test  = df.iloc[idx[n_train + n_val:]].copy()\n",
    "\n",
    "df_full_train = pd.concat([df_train, df_val])\n",
    "\n",
    "\n",
    "df_full_train['horsepower'] = df_full_train['horsepower'].fillna(0)\n",
    "df_test['horsepower']       = df_test['horsepower'].fillna(0)\n",
    "\n",
    "\n",
    "X_full_train = prepare_X(df_full_train)\n",
    "y_full_train = df_full_train['fuel_efficiency_mpg'].values\n",
    "\n",
    "X_test = prepare_X(df_test)\n",
    "y_test = df_test['fuel_efficiency_mpg'].values\n",
    "\n",
    "\n",
    "def train_ridge(X, y, r):\n",
    "    XTX = X.T.dot(X)\n",
    "    I = np.eye(XTX.shape[0])\n",
    "    I[0, 0] = 0.0  \n",
    "    return np.linalg.solve(XTX + r * I, X.T.dot(y))\n",
    "\n",
    "w = train_ridge(X_full_train, y_full_train, r=0.001)\n",
    "\n",
    "y_pred = predict(X_test, w)\n",
    "score = rmse(y_test, y_pred)\n",
    "\n",
    "print(round(score, 3))"
   ]
  },
  {
   "cell_type": "code",
   "execution_count": null,
   "id": "e45a4531-ac54-4c21-a62a-ab50904c79b5",
   "metadata": {},
   "outputs": [],
   "source": []
  }
 ],
 "metadata": {
  "kernelspec": {
   "display_name": "Python [conda env:base] *",
   "language": "python",
   "name": "conda-base-py"
  },
  "language_info": {
   "codemirror_mode": {
    "name": "ipython",
    "version": 3
   },
   "file_extension": ".py",
   "mimetype": "text/x-python",
   "name": "python",
   "nbconvert_exporter": "python",
   "pygments_lexer": "ipython3",
   "version": "3.13.5"
  }
 },
 "nbformat": 4,
 "nbformat_minor": 5
}
